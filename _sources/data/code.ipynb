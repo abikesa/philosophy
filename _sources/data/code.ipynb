{
 "cells": [
  {
   "cell_type": "code",
   "execution_count": 7,
   "metadata": {},
   "outputs": [
    {
     "name": "stdout",
     "output_type": "stream",
     "text": [
      "\n",
      "file /Users/apollo/.stata_kernel_cache/graph5.svg saved as SVG format\n",
      "file /Users/apollo/.stata_kernel_cache/graph5.pdf saved as PDF format\n"
     ]
    }
   ],
   "source": [
    "qui {\n",
    "clear \n",
    "rm code.png    \n",
    "//1. beta-coefficients\n",
    "import delimited b_nondonor.csv, clear \n",
    "local i = 1\n",
    "foreach var of varlist * {   // this loops over all variables in the dataset\n",
    "    rename `var' var`i'\n",
    "    local i = `i' + 1\n",
    "}\n",
    "mkmat var1-var58, matrix(beta)\n",
    "\n",
    "//2. scenario-vector\n",
    "import delimited SV_nondonor.csv, clear \n",
    "local i = 1\n",
    "foreach var of varlist * {   // this loops over all variables in the dataset\n",
    "    rename `var' var`i'\n",
    "    local i = `i' + 1\n",
    "}\n",
    "mkmat var1-var58, matrix(SV)\n",
    "// matrix list beta\n",
    "\n",
    "//3. base-case\n",
    "import delimited s0_nondonor.csv, clear \n",
    "l in 1/10\n",
    "g f0 = (1 - s0_nondonor)*100\n",
    "// line f0 _t, sort connect(step step) ylab(0(20)100)\n",
    "\n",
    "//4. logHR\n",
    "matrix logHR=beta*SV'\n",
    "matrix list logHR\n",
    "\n",
    "//5. KM\n",
    "g f1 = f0*exp(logHR[1,1])\n",
    "line f0 f1 _t, ///\n",
    "   sort connect(step step) ylab(0(20)100) ///\n",
    "   legend(lab(1 \"Base-Case\") lab(2 \"Scenario\"))  \n",
    "graph export code.png, replace  \n",
    "}"
   ]
  },
  {
   "cell_type": "markdown",
   "metadata": {},
   "source": [
    "![](code.png)"
   ]
  }
 ],
 "metadata": {
  "kernelspec": {
   "display_name": "Stata",
   "language": "stata",
   "name": "stata"
  },
  "language_info": {
   "codemirror_mode": "stata",
   "file_extension": ".do",
   "mimetype": "text/x-stata",
   "name": "stata",
   "version": "15.1"
  },
  "widgets": {
   "application/vnd.jupyter.widget-state+json": {
    "state": {},
    "version_major": 2,
    "version_minor": 0
   }
  }
 },
 "nbformat": 4,
 "nbformat_minor": 4
}
