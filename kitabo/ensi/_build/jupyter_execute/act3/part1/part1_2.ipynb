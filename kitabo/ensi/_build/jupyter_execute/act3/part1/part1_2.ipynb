{
 "cells": [
  {
   "cell_type": "markdown",
   "metadata": {},
   "source": [
    "# Chapter 2\n",
    "\n",
    "1. **Inherited Constraints**:  \n",
    "   - **Directed Acyclic Graph (DAG)**: Strict adherence to this structure. No cycles, no bidirectional arrows. The essential inherited framework consists of three critical elements: directed, acyclic, graph. Deviations (like backward or cyclic arrows) are unacceptable.\n",
    "   - **Game Theory**: Introduce game theory to enhance DAGs with TGIF: time, iteration, fractal geometry, and feedback-loops. Incorporated these to navigate through complexity without violating the DAG structure & constraints it implies. Iterative `rounds` of games enable dynamic movement within the graph.\n",
    "   - **TGIF** (Time, Geometry, Iteration, Feedback): These elements add strategic depth while maintaining the core structure of the DAG. They allow for complexity and `cybernetic` systems that avoid the pitfalls of other frameworks.\n",
    "\n",
    "2. **Added Constraints**:  \n",
    "   - **Dante’s Allegory**: Adds meaning and depth to the system.  \n",
    "     - **Strategy** = Infernal (Adversarial) Games  \n",
    "     - **Payoff** = Limbo (Iterative Games)  \n",
    "     - **Equilibrium** = Cooperative Games  \n",
    "   - Extraordinary \"[tension in the bow](https://www.gutenberg.org/files/4363/4363-h/4363-h.htm)\" from these inherited & added constraints gives us the latent energy to aim \"our arrow\" for loftier, higher & distant goals, such as the \"distant peaks\" (strategic objectives).\n",
    "\n",
    "3. **Types (Future Topic)**:  \n",
    "   - Let's discussio these some other time.\n",
    "      - **Archetypes**\n",
    "      - **Stereotypes**\n",
    "      - **prototypes**  \n",
    "   - With these three we'd address the collective, group, and personal `arcs` of virtually any story whether it be historical, comical, or tragical"
   ]
  }
 ],
 "metadata": {
  "kernelspec": {
   "display_name": "Python 3",
   "language": "python",
   "name": "python3"
  },
  "language_info": {
   "codemirror_mode": {
    "name": "ipython",
    "version": 3
   },
   "file_extension": ".py",
   "mimetype": "text/x-python",
   "name": "python",
   "nbconvert_exporter": "python",
   "pygments_lexer": "ipython3",
   "version": "3.12.4"
  },
  "widgets": {
   "application/vnd.jupyter.widget-state+json": {
    "state": {},
    "version_major": 2,
    "version_minor": 0
   }
  }
 },
 "nbformat": 4,
 "nbformat_minor": 4
}