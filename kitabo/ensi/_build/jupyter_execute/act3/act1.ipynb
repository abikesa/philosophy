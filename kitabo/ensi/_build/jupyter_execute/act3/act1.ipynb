{
 "cells": [
  {
   "cell_type": "markdown",
   "metadata": {},
   "source": [
    "# Act 1\n",
    "\n",
    "Here's some Python code that demonstrates three levels of game theory simulations: basic, intermediate, and advanced. Each step builds on the previous one, increasing complexity and adding layers of strategy and interaction.\n",
    "\n",
    "### Basic: Prisoner's Dilemma\n",
    "A simple 2-player Prisoner's Dilemma where each player can either cooperate (C) or defect (D). The payoff matrix is as follows:\n",
    "- If both cooperate: (3, 3)\n",
    "- If both defect: (1, 1)\n",
    "- If one defects and the other cooperates: (5, 0) for the defector and (0, 5) for the cooperator."
   ]
  },
  {
   "cell_type": "code",
   "execution_count": 1,
   "metadata": {
    "tags": [
     "hide-input"
    ]
   },
   "outputs": [
    {
     "name": "stdout",
     "output_type": "stream",
     "text": [
      "Player 1 payoff: 0, Player 2 payoff: 5\n"
     ]
    }
   ],
   "source": [
    "import numpy as np\n",
    "\n",
    "def prisoners_dilemma(player1, player2):\n",
    "    # Payoff matrix: rows = player1's choices, columns = player2's choices\n",
    "    payoff_matrix = np.array([[(3, 3), (0, 5)], [(5, 0), (1, 1)]])\n",
    "    \n",
    "    # Return the payoff for the choices\n",
    "    return payoff_matrix[player1][player2]\n",
    "\n",
    "# 0 = cooperate, 1 = defect\n",
    "player1_choice = 0  # Cooperate\n",
    "player2_choice = 1  # Defect\n",
    "\n",
    "payoff = prisoners_dilemma(player1_choice, player2_choice)\n",
    "print(f\"Player 1 payoff: {payoff[0]}, Player 2 payoff: {payoff[1]}\")"
   ]
  },
  {
   "cell_type": "markdown",
   "metadata": {},
   "source": [
    "### Intermediate: Repeated Prisoner's Dilemma\n",
    "Now let's introduce a repeated game scenario, where players play multiple rounds of the Prisoner's Dilemma and can adjust their strategy based on prior rounds. We simulate a basic \"Tit for Tat\" strategy, where Player 2 mimics Player 1's previous move.\n"
   ]
  },
  {
   "cell_type": "code",
   "execution_count": 2,
   "metadata": {
    "tags": [
     "hide-input"
    ]
   },
   "outputs": [
    {
     "name": "stdout",
     "output_type": "stream",
     "text": [
      "Total payoff for Player 1: 17, Total payoff for Player 2: 12\n"
     ]
    }
   ],
   "source": [
    "\n",
    "def repeated_dilemma(rounds=5):\n",
    "    player1_history = []\n",
    "    player2_history = []\n",
    "    \n",
    "    player1_choice = 0  # Start by cooperating\n",
    "    player2_choice = 0  # Start by cooperating (Tit-for-Tat)\n",
    "    \n",
    "    total_payoff_player1 = 0\n",
    "    total_payoff_player2 = 0\n",
    "    \n",
    "    for i in range(rounds):\n",
    "        payoff = prisoners_dilemma(player1_choice, player2_choice)\n",
    "        \n",
    "        # Update total payoffs\n",
    "        total_payoff_player1 += payoff[0]\n",
    "        total_payoff_player2 += payoff[1]\n",
    "        \n",
    "        # Log choices\n",
    "        player1_history.append(player1_choice)\n",
    "        player2_history.append(player2_choice)\n",
    "        \n",
    "        # Player 2 follows \"Tit for Tat\" strategy\n",
    "        if i > 0:\n",
    "            player2_choice = player1_history[-1]  # Mimic player1's last choice\n",
    "        else:\n",
    "            player2_choice = 0  # Cooperate initially\n",
    "            \n",
    "        # Player 1 randomly defects in later rounds\n",
    "        if i >= 3:\n",
    "            player1_choice = 1\n",
    "    \n",
    "    return total_payoff_player1, total_payoff_player2, player1_history, player2_history\n",
    "\n",
    "payoffs = repeated_dilemma()\n",
    "print(f\"Total payoff for Player 1: {payoffs[0]}, Total payoff for Player 2: {payoffs[1]}\")\n",
    "\n"
   ]
  },
  {
   "cell_type": "markdown",
   "metadata": {},
   "source": [
    "\n",
    "\n",
    "### Advanced: Multi-Player Game Simulation\n",
    "Finally, let's expand the simulation to a multi-player game where several players choose between cooperation and defection. We also introduce a more complex strategy: \"Grim Trigger,\" where a player cooperates unless another player defects, in which case they defect for the rest of the game.\n"
   ]
  },
  {
   "cell_type": "code",
   "execution_count": 3,
   "metadata": {
    "tags": [
     "hide-input"
    ]
   },
   "outputs": [
    {
     "name": "stdout",
     "output_type": "stream",
     "text": [
      "Final payoffs for all players: [36. 36. 44. 53.]\n"
     ]
    }
   ],
   "source": [
    "\n",
    "def multi_player_game(num_players=4, rounds=5):\n",
    "    # Initialize choices: all players start by cooperating (0 = cooperate, 1 = defect)\n",
    "    player_choices = np.zeros((num_players, rounds))\n",
    "    payoffs = np.zeros(num_players)\n",
    "    \n",
    "    for round_idx in range(rounds):\n",
    "        if round_idx > 0:\n",
    "            # Apply Grim Trigger strategy\n",
    "            for p in range(num_players):\n",
    "                if 1 in player_choices[p, :round_idx]:  # If any defection happened in the past\n",
    "                    player_choices[p, round_idx] = 1  # Defect for the rest of the game\n",
    "\n",
    "        # Randomly pick one defector per round to test strategy dynamics\n",
    "        if round_idx > 2:\n",
    "            defector = np.random.randint(0, num_players)\n",
    "            player_choices[defector, round_idx] = 1\n",
    "\n",
    "        # Calculate payoffs based on choices in this round\n",
    "        for p1 in range(num_players):\n",
    "            for p2 in range(p1 + 1, num_players):\n",
    "                p1_choice = int(player_choices[p1, round_idx])\n",
    "                p2_choice = int(player_choices[p2, round_idx])\n",
    "                round_payoff = prisoners_dilemma(p1_choice, p2_choice)\n",
    "                payoffs[p1] += round_payoff[0]\n",
    "                payoffs[p2] += round_payoff[1]\n",
    "\n",
    "    return payoffs, player_choices\n",
    "\n",
    "game_results = multi_player_game()\n",
    "print(f\"Final payoffs for all players: {game_results[0]}\")\n"
   ]
  },
  {
   "cell_type": "markdown",
   "metadata": {},
   "source": [
    "\n",
    "\n",
    "### Breakdown:\n",
    "1. **Basic**: A single round of Prisoner's Dilemma with two players making isolated choices.\n",
    "2. **Intermediate**: Introduces repeated games and strategies like \"Tit for Tat\" where players react based on history.\n",
    "3. **Advanced**: Expands the game to multiple players and complex strategies like \"Grim Trigger.\"\n",
    "\n",
    "You can modify the number of rounds or players to explore different game theory dynamics."
   ]
  }
 ],
 "metadata": {
  "kernelspec": {
   "display_name": "Python 3",
   "language": "python",
   "name": "python3"
  },
  "language_info": {
   "codemirror_mode": {
    "name": "ipython",
    "version": 3
   },
   "file_extension": ".py",
   "mimetype": "text/x-python",
   "name": "python",
   "nbconvert_exporter": "python",
   "pygments_lexer": "ipython3",
   "version": "3.12.4"
  },
  "widgets": {
   "application/vnd.jupyter.widget-state+json": {
    "state": {},
    "version_major": 2,
    "version_minor": 0
   }
  }
 },
 "nbformat": 4,
 "nbformat_minor": 4
}