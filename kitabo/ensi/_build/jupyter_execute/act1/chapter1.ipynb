{
 "cells": [
  {
   "cell_type": "markdown",
   "metadata": {},
   "source": [
    "# Chapter 1\n",
    "\n",
    "<iframe width=\"560\" height=\"315\" src=\"https://www.youtube.com/embed/CNBxIhxHHxM\" frameborder=\"0\" allow=\"accelerometer; autoplay; clipboard-write; encrypted-media; gyroscope; picture-in-picture\" allowfullscreen></iframe>\n",
    "\n",
    "```{figure} figures/blanche.*\n",
    "---\n",
    "width: 1\n",
    "heigiht: 1\n",
    "---\n",
    "_Umuntu ngumuntu ngabantu_. Zulu equivalent of [Casper's](https://www.youtube.com/watch?v=sXQ940YSD2A) \"Friendship, Character, Ethics\". Allegorically, this is idealism and longing for Dante's _Paradiso_. But our hosts are clearly unaware of the much richer allegory to the [Nash Program](https://link.springer.com/chapter/10.1057/9780230280847_26), intended to [bridge](https://www.nobelprize.org/uploads/2018/06/aumann-lecture.pdf) the gap between adversarial and cooperative interactions. It's provides the richest vocabulary yet and as a sort of LLM for HI, it would greatly enhance such conversations. It's for this reason that I feel a special responsibility. In my lifetime, my family has consisted of Grannies, Dad, Mom, `Yours Truly`, Spouse, and Offspring. I'm among those who stand in the middle, able to understand and connect with generations from the beginning to end of the 20th century, as well as those born in the first half of the 21st. \n",
    "```"
   ]
  }
 ],
 "metadata": {
  "kernelspec": {
   "display_name": "Python 3",
   "language": "python",
   "name": "python3"
  },
  "language_info": {
   "codemirror_mode": {
    "name": "ipython",
    "version": 3
   },
   "file_extension": ".py",
   "mimetype": "text/x-python",
   "name": "python",
   "nbconvert_exporter": "python",
   "pygments_lexer": "ipython3",
   "version": "3.12.4"
  },
  "widgets": {
   "application/vnd.jupyter.widget-state+json": {
    "state": {},
    "version_major": 2,
    "version_minor": 0
   }
  }
 },
 "nbformat": 4,
 "nbformat_minor": 4
}