{
 "cells": [
  {
   "cell_type": "markdown",
   "metadata": {},
   "source": [
    "# Chapter 1\n",
    "## Friendship, Character, Ethics\n",
    "\n",
    "<iframe width=\"560\" height=\"315\" src=\"https://www.youtube.com/embed/CNBxIhxHHxM\" frameborder=\"0\" allow=\"accelerometer; autoplay; clipboard-write; encrypted-media; gyroscope; picture-in-picture\" allowfullscreen></iframe>\n",
    "\n",
    "```{figure} figures/blanche.*\n",
    "---\n",
    "width: 1\n",
    "heigiht: 1\n",
    "---\n",
    "_Umuntu ngumuntu ngabantu_—the Zulu equivalent of [Casper’s](https://www.youtube.com/watch?v=sXQ940YSD2A) “Friendship, Character, Ethics.” Allegorically, this reflects idealism and the longing for Dante’s *Paradiso*. However, our hosts seem unaware of the far richer allegory connected to the [Nash Program](https://link.springer.com/chapter/10.1057/9780230280847_26), which aims to [bridge](https://www.nobelprize.org/uploads/2018/06/aumann-lecture.pdf) the gap between adversarial and cooperative interactions. It provides the most comprehensive vocabulary yet, functioning like an LLM for human intelligence (HI), and could significantly elevate such conversations. This is why I feel a special responsibility. Throughout my life, my family has included Grannies, Dad, Mom, Yours Truly, Spouse, and Offspring. I stand in the middle, capable of understanding and connecting with generations spanning from the beginning to the end of the 20th century, as well as those born in the first half of the 21st.\n",
    "```\n",
    "\n",
    "## Betrayal, [Power](https://abikesa.github.io/dostoevsky/act1/chapter1.html), Survival\n",
    "\n",
    "<iframe width=\"560\" height=\"315\" src=\"https://www.youtube.com/embed/0Yj2Ncm-KZA\" frameborder=\"0\" allow=\"accelerometer; autoplay; clipboard-write; encrypted-media; gyroscope; picture-in-picture\" allowfullscreen></iframe>\n",
    "\n",
    "```{figure} figures/blanche.*\n",
    "---\n",
    "width: 1\n",
    "heigiht: 1\n",
    "---\n",
    "_Chris Cuomo: Historical Perspective_—\"The commodity is as old as society: the 'They'\". The power brokers, the establishment, the elite, whatever you wanna call them. they used to be called the bourgeoisie! Ok, every society has gone through the fact that there are people in society who have \"the hand\" & influence that makes everything happen, that fucks you over. It's always been true -- beyond what you are being sold.  \n",
    "```"
   ]
  }
 ],
 "metadata": {
  "kernelspec": {
   "display_name": "Python 3",
   "language": "python",
   "name": "python3"
  },
  "language_info": {
   "codemirror_mode": {
    "name": "ipython",
    "version": 3
   },
   "file_extension": ".py",
   "mimetype": "text/x-python",
   "name": "python",
   "nbconvert_exporter": "python",
   "pygments_lexer": "ipython3",
   "version": "3.12.4"
  },
  "widgets": {
   "application/vnd.jupyter.widget-state+json": {
    "state": {},
    "version_major": 2,
    "version_minor": 0
   }
  }
 },
 "nbformat": 4,
 "nbformat_minor": 4
}