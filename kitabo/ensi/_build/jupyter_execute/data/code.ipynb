{
 "cells": [
  {
   "cell_type": "code",
   "execution_count": 7,
   "metadata": {
    "tags": [
     "hide-input",
     "hide-output"
    ]
   },
   "outputs": [
    {
     "name": "stdout",
     "output_type": "stream",
     "text": [
      "\n",
      "file /Users/apollo/.stata_kernel_cache/graph5.svg saved as SVG format\n",
      "file /Users/apollo/.stata_kernel_cache/graph5.pdf saved as PDF format\n"
     ]
    }
   ],
   "source": [
    "qui {\n",
    "clear \n",
    "rm code.png    \n",
    "//1. beta-coefficients\n",
    "import delimited b_nondonor.csv, clear \n",
    "local i = 1\n",
    "foreach var of varlist * {   // this loops over all variables in the dataset\n",
    "    rename `var' var`i'\n",
    "    local i = `i' + 1\n",
    "}\n",
    "mkmat var1-var58, matrix(beta)\n",
    "\n",
    "//2. scenario-vector\n",
    "import delimited SV_nondonor.csv, clear \n",
    "local i = 1\n",
    "foreach var of varlist * {   // this loops over all variables in the dataset\n",
    "    rename `var' var`i'\n",
    "    local i = `i' + 1\n",
    "}\n",
    "mkmat var1-var58, matrix(SV)\n",
    "// matrix list beta\n",
    "\n",
    "//3. base-case\n",
    "import delimited s0_nondonor.csv, clear \n",
    "l in 1/10\n",
    "g f0 = (1 - s0_nondonor)*100\n",
    "// line f0 _t, sort connect(step step) ylab(0(20)100)\n",
    "\n",
    "//4. logHR\n",
    "matrix logHR=beta*SV'\n",
    "matrix list logHR\n",
    "\n",
    "//5. KM\n",
    "g f1 = f0*exp(logHR[1,1])\n",
    "line f0 f1 _t, ///\n",
    "   sort connect(step step) ylab(0(20)100) ///\n",
    "   legend(lab(1 \"Base-Case\") lab(2 \"Scenario\"))  \n",
    "graph export code.png, replace  \n",
    "}"
   ]
  },
  {
   "cell_type": "markdown",
   "metadata": {},
   "source": [
    "![](code.png)"
   ]
  },
  {
   "cell_type": "code",
   "execution_count": 5,
   "metadata": {
    "tags": [
     "hide-output"
    ]
   },
   "outputs": [
    {
     "name": "stdout",
     "output_type": "stream",
     "text": [
      "\n",
      "(encoding automatically selected: ISO-8859-1)\n",
      "(2 vars, 58 obs)\n",
      "\n",
      "\n",
      "     +-----------------------------+\n",
      "     |                    variable |\n",
      "     |-----------------------------|\n",
      "  1. |                 diabetes_No |\n",
      "  2. |                diabetes_Yes |\n",
      "  3. |                  insulin_No |\n",
      "  4. |                 insulin_Yes |\n",
      "  5. |                 dia_pill_No |\n",
      "     |-----------------------------|\n",
      "  6. |                dia_pill_Yes |\n",
      "  7. |             hypertension_No |\n",
      "  8. |            hypertension_Yes |\n",
      "  9. |     hypertension_Don't_Know |\n",
      " 10. |                 hbp_pill_No |\n",
      "     |-----------------------------|\n",
      " 11. |                hbp_pill_Yes |\n",
      " 12. |                    smoke_No |\n",
      " 13. |                   smoke_Yes |\n",
      " 14. |       income_adjusted_<5000 |\n",
      " 15. |   income_adjusted_5000-9999 |\n",
      "     |-----------------------------|\n",
      " 16. | income_adjusted_10000-14999 |\n",
      " 17. | income_adjusted_15000-19999 |\n",
      " 18. | income_adjusted_20000-24999 |\n",
      " 19. | income_adjusted_25000-34999 |\n",
      " 20. | income_adjusted_35000-44999 |\n",
      "     |-----------------------------|\n",
      " 21. | income_adjusted_45000-54999 |\n",
      " 22. | income_adjusted_55000-64999 |\n",
      " 23. | income_adjusted_65000-74999 |\n",
      " 24. |      income_adjusted_>20000 |\n",
      " 25. |                      <20000 |\n",
      "     |-----------------------------|\n",
      " 26. |          income_adjusted_14 |\n",
      " 27. |          income_adjusted_15 |\n",
      " 28. |           Refused to answer |\n",
      " 29. |                  don't know |\n",
      " 30. |               gender_Female |\n",
      "     |-----------------------------|\n",
      " 31. |                 gender_Male |\n",
      " 32. |                  race_White |\n",
      " 33. |       race_Mexican_American |\n",
      " 34. |         race_Other_Hispanic |\n",
      " 35. |     race_Non-Hispanic_Black |\n",
      "     |-----------------------------|\n",
      " 36. |                  race_Other |\n",
      " 37. |                     hs_Good |\n",
      " 38. |                hs_Excellent |\n",
      " 39. |                hs_Very_Good |\n",
      " 40. |                     hs_Fair |\n",
      "     |-----------------------------|\n",
      " 41. |                     hs_Poor |\n",
      " 42. |                     Refused |\n",
      " 43. |                           8 |\n",
      " 44. |                  don't know |\n",
      " 45. |            education (none) |\n",
      "     |-----------------------------|\n",
      " 46. |                          k8 |\n",
      " 47. |            Some High_School |\n",
      " 48. |      High_School_Equivalent |\n",
      " 49. |                   Associate |\n",
      " 50. |             College or more |\n",
      "     |-----------------------------|\n",
      " 51. |                     refused |\n",
      " 52. |                       age_c |\n",
      " 53. |                    bpxsar_c |\n",
      " 54. |                    bpxdar_c |\n",
      " 55. |                bmi_centered |\n",
      "     |-----------------------------|\n",
      " 56. |                      egfr_c |\n",
      " 57. |                      uacr_c |\n",
      " 58. |                        ghb  |\n",
      "     +-----------------------------+\n"
     ]
    }
   ],
   "source": [
    "import delimited beta_coefficients_58.csv, clear \n",
    "list variable"
   ]
  }
 ],
 "metadata": {
  "kernelspec": {
   "display_name": "Stata",
   "language": "stata",
   "name": "stata"
  },
  "language_info": {
   "codemirror_mode": "stata",
   "file_extension": ".do",
   "mimetype": "text/x-stata",
   "name": "stata",
   "version": "15.1"
  },
  "widgets": {
   "application/vnd.jupyter.widget-state+json": {
    "state": {},
    "version_major": 2,
    "version_minor": 0
   }
  }
 },
 "nbformat": 4,
 "nbformat_minor": 4
}